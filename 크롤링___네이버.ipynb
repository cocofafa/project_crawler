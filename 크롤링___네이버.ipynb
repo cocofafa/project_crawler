{
  "nbformat": 4,
  "nbformat_minor": 0,
  "metadata": {
    "colab": {
      "name": "크롤링 _ 네이버",
      "provenance": [],
      "authorship_tag": "ABX9TyNDRiA1PsC3KGzXA8z9S747",
      "include_colab_link": true
    },
    "kernelspec": {
      "name": "python3",
      "display_name": "Python 3"
    },
    "language_info": {
      "name": "python"
    }
  },
  "cells": [
    {
      "cell_type": "markdown",
      "metadata": {
        "id": "view-in-github",
        "colab_type": "text"
      },
      "source": [
        "<a href=\"https://colab.research.google.com/github/cocofafa/project_crawler/blob/main/%ED%81%AC%EB%A1%A4%EB%A7%81___%EB%84%A4%EC%9D%B4%EB%B2%84.ipynb\" target=\"_parent\"><img src=\"https://colab.research.google.com/assets/colab-badge.svg\" alt=\"Open In Colab\"/></a>"
      ]
    },
    {
      "cell_type": "code",
      "metadata": {
        "colab": {
          "base_uri": "https://localhost:8080/"
        },
        "id": "7eRm-jT2wJrl",
        "outputId": "f7b4f8d6-6119-4f97-d192-2e1077dbf605"
      },
      "source": [
        "from bs4 import BeautifulSoup\n",
        "import requests\n",
        "from datetime import datetime\n",
        "\n",
        "headers = {'User-Agent':'Mozilla/5.0 (Windows NT 6.3; Win64; x64) AppleWebKit/537.36 (KHTML, like Gecko) Chrome/63.0.3239.132 Safari/537.36'}\n",
        "url = \"https://datalab.naver.com/keyword/realtimeList.naver?age=20s\" #로봇이 아님을 증명 !\n",
        "response = requests.get(url,headers=headers)\n",
        "soup = BeautifulSoup(response.text, 'html.parser')\n",
        "rank = 1\n",
        "# span - item_title 공통점 !\n",
        "results = soup.findAll('span','item_title')\n",
        "\n",
        "print(response.text)\n",
        "\n",
        "search_rank_file = open(\"rankresult.txt\",\"a\")\n",
        "\n",
        "print(datetime.today().strftime(\"%Y년 %m월 %d일의 실시간 검색어 순위입니다.\\n\"))\n",
        "\n",
        "for result in results:\n",
        "    search_rank_file.write(str(rank)+\"위:\"+result.get_text()+\"\\n\")\n",
        "    print(rank,\"위 : \",result.get_text(),\"\\n\")\n",
        "    rank += 1"
      ],
      "execution_count": 1,
      "outputs": [
        {
          "output_type": "stream",
          "text": [
            "<!DOCTYPE html>\n",
            "<html lang=\"ko\">\n",
            "<head>\n",
            "    <meta charset=\"utf-8\">\n",
            "    <!-- [D] Internet Explorer Document Mode 최신으로 설정 -->\n",
            "    <meta http-equiv=\"X-UA-Compatible\" content=\"IE=edge\">\n",
            "    <title>페이지를 찾을 수 없습니다. : 빅데이터포털</title>\n",
            "    <style type=\"text/css\">\n",
            "        /* NHN Technology Services MJH 151228 */\n",
            "        /* Common */\n",
            "        html, body { height: 100%; }\n",
            "        body, p, h1, h2, h3, h4, h5, h6, ul, ol, li, dl, dt, dd, table, th, td, form, fieldset, legend, input, textarea, button, select { margin: 0; padding: 0; }\n",
            "        body{ background: #3a3d40; font-family: '나눔고딕',NanumGothic,'돋움',Dotum,Helvetica,sans-serif; font-size: 16px; color: #404d5d; letter-spacing: -1px; }\n",
            "        a { color: inherit; text-decoration: none; }\n",
            "        .blind { overflow: hidden; position: absolute; clip: rect(0 0 0 0); width: 1px; height: 1px; margin: -1px; }\n",
            "        .sp,\n",
            "        .sp_before:before { background-image: url(https://ssl.pstatic.net/static.datalab/202107120236/img/sp_error.png); background-repeat: no-repeat; }\n",
            "        .wrap { min-width: 1200px; }\n",
            "        .container { background: #fff; }\n",
            "        .content_error { min-height: 910px; padding-top: 240px; text-align: center; box-sizing: border-box; }\n",
            "        .error_title { font-weight: normal; font-size: 33px; }\n",
            "        .error_title:before { display:block; width: 40px; height: 40px; margin: 0 auto 26px; background-position: 0 0; content: ''; }\n",
            "        .error_title:after { display: block; width: 50px; height: 2px; margin: 25px auto 0; background: #d5dce2; content: ''; }\n",
            "        .error_desc { margin-top: 31px; line-height: 30px; }\n",
            "        .error_desc .link { color: #4a8fda; text-decoration: underline; }\n",
            "        .error_prev { display: inline-block; margin-top: 70px; color: #777; }\n",
            "        .error_prev:before { display:inline-block; width: 18px; height: 17px; margin-right: 7px; background-position: -44px 0 ; vertical-align: -3px; content: ''; }\n",
            "        .footer { width: 100%; height: 120px; background: #3a3d40; color: #999; }\n",
            "        .footer a { color: inherit; }\n",
            "        .footer .footer_inner { width: 1090px; margin: 0 auto; padding-top: 40px; text-align: center; }\n",
            "        .footer .footer_info { font-size: 12px; }\n",
            "        .footer .footer_info strong { color: #ccc; }\n",
            "        .footer .footer_info a:hover { text-decoration: underline; }\n",
            "        .footer .footer_info a + a:before { display: inline-block; width: 1px; height: 11px; margin: 0 6px; background: #4d4f52; vertical-align: -2px; content: ''; }\n",
            "        .footer .footer_copyright { margin-top: 19px; font-family: Verdana; font-size: 9px; letter-spacing: 0; }\n",
            "        .footer .footer_copyright strong a:hover { color: #ccc; text-decoration: underline; }\n",
            "        .footer .footer_logo { height: 11px; width: 62px; background-position: 0px -44px; display: inline-block; margin-right: 10px; vertical-align: -2px; }\n",
            "        .footer .copyright { font-family: Tahoma; font-size: 10px; }\n",
            "    </style>\n",
            "</head>\n",
            "\n",
            "<body>\n",
            "<div id=\"wrap\" class=\"wrap\">\n",
            "\n",
            "    <!-- container -->\n",
            "    <div id=\"container\" class=\"container\" role=\"main\">\n",
            "        <!-- content -->\n",
            "        <div id=\"content\" class=\"content_error\">\n",
            "            <h1 class=\"error_title sp_before\">오류로 데이터 표시를 할 수 없습니다.</h1>\n",
            "            <p class=\"error_desc\">\n",
            "                이용에 불편을 드려서 죄송합니다.\n",
            "                궁금한 사항은 <a href=\"https://help.naver.com/support/service/main.nhn?serviceNo=14493\" target=\"_blank\" class=\"link\">고객센터</a>에 문의해주시면 안내드리겠습니다.<br>\n",
            "                감사합니다.\n",
            "            </p>\n",
            "            <a href=\"javascript:history.back()\" class=\"error_prev sp_before\">이전 페이지로</a>\n",
            "        </div>\n",
            "        <!-- //content -->\n",
            "    </div>\n",
            "    <!-- //container -->\n",
            "\n",
            "    <!-- footer -->\n",
            "    <div id=\"footer\" class=\"footer\">\n",
            "        <div class=\"footer_inner\">\n",
            "            <div class=\"footer_info\">\n",
            "                <a href=\"https://policy.naver.com/rules/service.html\" target=\"_blank\">이용약관</a>\n",
            "                <a href=\"https://policy.naver.com/rules/privacy.html\" target=\"_blank\"><strong>개인정보취급방침</strong></a>\n",
            "                <a href=\"https://policy.naver.com/rules/disclaimer.html\" target=\"_blank\">책임의 한계와 법적고지</a>\n",
            "                <a href=\"https://help.naver.com/support/service/main.nhn?serviceNo=14493\" target=\"_blank\">고객센터</a>\n",
            "            </div>\n",
            "            <div class=\"footer_copyright\">\n",
            "                <a href=\"https://www.naver.com/\" target=\"_blank\" class=\"footer_logo sp\"><span class=\"blind\">NAVER</span></a>\n",
            "                <em class=\"copyright\">Copyright ©</em>\n",
            "                <strong><a href=\"https://www.navercorp.com/ko/index.nhn\" target=\"_blank\">NAVER Corp.</a></strong> All Rights Reserved.\n",
            "            </div>\n",
            "        </div>\n",
            "    </div>\n",
            "    <!-- //footer -->\n",
            "\n",
            "</div>\n",
            "\n",
            "</body>\n",
            "</html>\n",
            "\n",
            "2021년 07월 30일의 실시간 검색어 순위입니다.\n",
            "\n"
          ],
          "name": "stdout"
        }
      ]
    },
    {
      "cell_type": "code",
      "metadata": {
        "id": "b_L-5qC2wg1w"
      },
      "source": [
        ""
      ],
      "execution_count": null,
      "outputs": []
    },
    {
      "cell_type": "code",
      "metadata": {
        "id": "INP2nxgxwhHQ"
      },
      "source": [
        ""
      ],
      "execution_count": null,
      "outputs": []
    }
  ]
}